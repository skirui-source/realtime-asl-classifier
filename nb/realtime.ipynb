{
 "cells": [
  {
   "cell_type": "code",
   "execution_count": null,
   "id": "d8584b4b-06ca-44b3-8606-b91038830de2",
   "metadata": {},
   "outputs": [],
   "source": [
    "import tensorflow as tf\n",
    "import keras\n",
    "import cv2\n",
    "import numpy as np\n",
    "from matplotlib import pyplot as plt"
   ]
  },
  {
   "cell_type": "code",
   "execution_count": null,
   "id": "4df0ad55-1c5a-410a-aa09-a8d26618ffd6",
   "metadata": {},
   "outputs": [],
   "source": [
    "digits= [\"0\", \"1\" , \"2\", \"3\", \"4\", \"5\", \"6\", \"7\", \"8\", \"9\"]\n",
    "model = keras.models.load_model(\"mobilenet\")"
   ]
  },
  {
   "cell_type": "code",
   "execution_count": null,
   "id": "e5913f50-f7d0-490f-b242-511f792dba0f",
   "metadata": {},
   "outputs": [],
   "source": [
    "cap.release()\n",
    "cv2.destroyAllWindows()"
   ]
  },
  {
   "cell_type": "code",
   "execution_count": null,
   "id": "3a7ec1e8-a9ef-4af7-bf2b-63c57db1bf4a",
   "metadata": {},
   "outputs": [],
   "source": [
    "def classify(roi):\n",
    "    image = cv2.resize(roi, (224, 224)) \n",
    "    image_np = np.array(image)\n",
    "\n",
    "    img_array_scaled= keras.applications.mobilenet.preprocess_input(image_np)\n",
    "    img_array_expanded_dims = np.expand_dims(img_array_scaled, axis=0)\n",
    "    \n",
    "    proba = model.predict(img_array_expanded_dims)\n",
    "    idx = np.argmax(proba)\n",
    "    \n",
    "    return digits[idx]"
   ]
  },
  {
   "cell_type": "code",
   "execution_count": null,
   "id": "9ca49481-0668-4c74-aefd-8a60cfaa43d9",
   "metadata": {},
   "outputs": [],
   "source": [
    "\n",
    "cap = cv2.VideoCapture(0)\n",
    "width = int(cap.get(cv2.CAP_PROP_FRAME_WIDTH))\n",
    "height = int(cap.get(cv2.CAP_PROP_FRAME_HEIGHT))\n",
    "\n",
    "while True:\n",
    "    ret, frame = cap.read()\n",
    "    \n",
    "    if ret is False:\n",
    "        print(\"warning: image could not be loaded\")\n",
    "    else:\n",
    "        print(ret, frame.shape)\n",
    "        \n",
    "    # ROI coordinates\n",
    "    left = int(0.5*width)\n",
    "    top = int(0.5*height)\n",
    "    right = left+250\n",
    "    bottom =  top+250\n",
    "    \n",
    "    print((left, top), (right, bottom))\n",
    "    \n",
    "    cv2.rectangle(frame, (left, top), (right, bottom), (0, 255,0), 2)\n",
    "    roi = frame[top:bottom, left:right]\n",
    "     \n",
    "    cv2.imshow(\"roi\", roi)\n",
    "    \n",
    "    pred = classify(roi)\n",
    "    \n",
    "    font=cv2.FONT_HERSHEY_SIMPLEX\n",
    "    cv2.putText(frame, pred, (left+50, top-40), font, 3, (0,0,255), 2)\n",
    "    cv2.imshow('full', frame)\n",
    "\n",
    "    if cv2.waitKey(1) & 0xFF == ord('q'):\n",
    "        break\n",
    "\n",
    "cap.release()\n",
    "cv2.destroyAllWindows()"
   ]
  }
 ],
 "metadata": {
  "kernelspec": {
   "display_name": "Python 3 (ipykernel)",
   "language": "python",
   "name": "python3"
  },
  "language_info": {
   "codemirror_mode": {
    "name": "ipython",
    "version": 3
   },
   "file_extension": ".py",
   "mimetype": "text/x-python",
   "name": "python",
   "nbconvert_exporter": "python",
   "pygments_lexer": "ipython3",
   "version": "3.8.13"
  }
 },
 "nbformat": 4,
 "nbformat_minor": 5
}
